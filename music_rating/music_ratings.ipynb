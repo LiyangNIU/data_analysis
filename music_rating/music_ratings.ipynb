{
 "cells": [
  {
   "cell_type": "code",
   "execution_count": 1,
   "metadata": {},
   "outputs": [
    {
     "name": "stdout",
     "output_type": "stream",
     "text": [
      "     用户ID                                               推荐列表\n",
      "0       1  [32, 50, 300, 480, 527, 541, 720, 745, 858, 11...\n",
      "1       2  [260, 293, 318, 541, 741, 1036, 1136, 1196, 11...\n",
      "2       3  [36, 508, 785, 802, 1042, 1285, 1673, 1747, 27...\n",
      "3       4  [50, 778, 923, 1027, 1201, 1408, 48516, 91500,...\n",
      "4       5                                              [318]\n",
      "..    ...                                                ...\n",
      "666   667  [1, 231, 260, 318, 370, 466, 527, 588, 589, 10...\n",
      "667   668  [750, 903, 904, 908, 910, 912, 913, 922, 923, ...\n",
      "668   669  [16, 25, 150, 235, 300, 339, 364, 380, 500, 52...\n",
      "669   670                [260, 858, 1196, 1221, 2959, 58559]\n",
      "670   671                                  [802, 1073, 1358]\n",
      "\n",
      "[671 rows x 2 columns]\n"
     ]
    }
   ],
   "source": [
    "import pandas as pd\n",
    "df = pd.read_csv(\"music_ratings.csv\")\n",
    "\n",
    "ratings = df.pivot_table(index=\"songId\",columns=\"userId\",values=\"rating\")\n",
    "\n",
    "corrMatrix=ratings.corr(method=\"pearson\")\n",
    "\n",
    "RecommendList = []\n",
    "\n",
    "for user in ratings.columns:\n",
    "\n",
    "    userCorr = corrMatrix[user].drop(index=user)\n",
    "    \n",
    "    mostCorrUser=userCorr.idxmax()\n",
    "    \n",
    "    targetSong = ratings[mostCorrUser]\n",
    "    \n",
    "    targetSong = targetSong[targetSong.values>4]\n",
    "    \n",
    "    valued_ratings = ratings[user].dropna()\n",
    "    \n",
    "    targetName = targetSong.index\n",
    "    \n",
    "    user1Name = valued_ratings.index\n",
    "    \n",
    "    SongList=targetName[~targetName.isin(user1Name)]\n",
    "    \n",
    "    SongList = SongList.values\n",
    "\n",
    "    RecommendList.append(SongList)\n",
    "\n",
    "resultDict={\"用户ID\":ratings.columns,\"推荐列表\":RecommendList}\n",
    "\n",
    "result = pd.DataFrame(resultDict)\n",
    "\n",
    "print(result)"
   ]
  }
 ],
 "metadata": {
  "kernelspec": {
   "display_name": "Python 3",
   "language": "python",
   "name": "python3"
  },
  "language_info": {
   "codemirror_mode": {
    "name": "ipython",
    "version": 3
   },
   "file_extension": ".py",
   "mimetype": "text/x-python",
   "name": "python",
   "nbconvert_exporter": "python",
   "pygments_lexer": "ipython3",
   "version": "3.11.3"
  }
 },
 "nbformat": 4,
 "nbformat_minor": 2
}
