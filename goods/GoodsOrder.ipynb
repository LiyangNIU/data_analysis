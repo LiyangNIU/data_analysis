{
 "cells": [
  {
   "cell_type": "code",
   "execution_count": 2,
   "metadata": {},
   "outputs": [
    {
     "name": "stdout",
     "output_type": "stream",
     "text": [
      "RelationRecord(items=frozenset({'其他蔬菜', '本地蛋类', '全脂牛奶'}), support=0.012302999491611592, ordered_statistics=[OrderedStatistic(items_base=frozenset({'其他蔬菜', '本地蛋类'}), items_add=frozenset({'全脂牛奶'}), confidence=0.5525114155251142, lift=2.1623357627097084)])\n",
      "RelationRecord(items=frozenset({'其他蔬菜', '黄油', '全脂牛奶'}), support=0.011489578037620742, ordered_statistics=[OrderedStatistic(items_base=frozenset({'其他蔬菜', '黄油'}), items_add=frozenset({'全脂牛奶'}), confidence=0.5736040609137055, lift=2.2448849737709087)])\n",
      "RelationRecord(items=frozenset({'凝乳', '酸奶', '全脂牛奶'}), support=0.010066090493136757, ordered_statistics=[OrderedStatistic(items_base=frozenset({'凝乳', '酸奶'}), items_add=frozenset({'全脂牛奶'}), confidence=0.5823529411764706, lift=2.27912502048173)])\n",
      "RelationRecord(items=frozenset({'根茎类蔬菜', '热带水果', '全脂牛奶'}), support=0.011997966446365024, ordered_statistics=[OrderedStatistic(items_base=frozenset({'根茎类蔬菜', '热带水果'}), items_add=frozenset({'全脂牛奶'}), confidence=0.570048309178744, lift=2.230969009459987)])\n",
      "RelationRecord(items=frozenset({'根茎类蔬菜', '酸奶', '全脂牛奶'}), support=0.014539908490086425, ordered_statistics=[OrderedStatistic(items_base=frozenset({'根茎类蔬菜', '酸奶'}), items_add=frozenset({'全脂牛奶'}), confidence=0.562992125984252, lift=2.2033535849801504)])\n",
      "RelationRecord(items=frozenset({'其他蔬菜', '根茎类蔬菜', '柑橘类水果'}), support=0.010371123538383325, ordered_statistics=[OrderedStatistic(items_base=frozenset({'柑橘类水果', '根茎类蔬菜'}), items_add=frozenset({'其他蔬菜'}), confidence=0.5862068965517241, lift=3.0296084222733612)])\n",
      "RelationRecord(items=frozenset({'其他蔬菜', '根茎类蔬菜', '热带水果'}), support=0.012302999491611592, ordered_statistics=[OrderedStatistic(items_base=frozenset({'根茎类蔬菜', '热带水果'}), items_add=frozenset({'其他蔬菜'}), confidence=0.5845410628019324, lift=3.020999134344196)])\n"
     ]
    }
   ],
   "source": [
    "import pandas as pd\n",
    "df = pd.read_csv(\"GoodsOrder.csv\",encoding = \"utf-8\")\n",
    "\n",
    "df_list = []\n",
    "\n",
    "for i in range(1,9836):\n",
    "    \n",
    "    item=df[df[\"id\"]==i]\n",
    "    \n",
    "    item_list=list(item[\"Goods\"])\n",
    "    \n",
    "    df_list.append(item_list)\n",
    "\n",
    "from apyori import apriori\n",
    "\n",
    "rules = apriori(df_list,min_support=0.01,min_confidence=0.55)\n",
    "\n",
    "for rule in rules:\n",
    "    print(rule)"
   ]
  }
 ],
 "metadata": {
  "kernelspec": {
   "display_name": "Python 3",
   "language": "python",
   "name": "python3"
  },
  "language_info": {
   "codemirror_mode": {
    "name": "ipython",
    "version": 3
   },
   "file_extension": ".py",
   "mimetype": "text/x-python",
   "name": "python",
   "nbconvert_exporter": "python",
   "pygments_lexer": "ipython3",
   "version": "3.11.3"
  }
 },
 "nbformat": 4,
 "nbformat_minor": 2
}
