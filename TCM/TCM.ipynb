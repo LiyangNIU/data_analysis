{
 "cells": [
  {
   "cell_type": "code",
   "execution_count": 2,
   "metadata": {},
   "outputs": [
    {
     "name": "stdout",
     "output_type": "stream",
     "text": [
      "                      关联规则    支持度    置信度    提升度\n",
      "0          ['便秘']→['消化不良']  0.160  0.870  2.528\n",
      "1          ['失眠']→['月经不调']  0.318  0.809  1.672\n",
      "2        ['神经衰弱']→['消化不良']  0.164  0.872  2.536\n",
      "3            ['脱发']→['眼干']  0.143  0.947  3.045\n",
      "4            ['腰疼']→['眼干']  0.136  0.850  2.733\n",
      "5    ['失眠', '心悸']→['月经不调']  0.167  0.766  1.583\n",
      "6  ['心悸', '神经衰弱']→['消化不良']  0.100  0.926  2.692\n"
     ]
    }
   ],
   "source": [
    "import pandas as pd\n",
    "df=pd.read_csv(\"TCM.csv\",encoding=\"utf-8\")\n",
    "blanks=[]\n",
    "for i in df[\"病人症状\"]:\n",
    "    blank=i.split(\",\")\n",
    "    blanks.append(blank)\n",
    "from apyori import apriori\n",
    "rules=apriori(blanks,min_support=0.1,min_confidence=0.7)\n",
    "extract_result=[]\n",
    "for rule in rules:\n",
    "    support=round(rule.support,3)\n",
    "    for i in rule.ordered_statistics:\n",
    "        head_set=list(i.items_base)\n",
    "        tail_set=list(i.items_add)\n",
    "        if head_set==[]:\n",
    "            continue\n",
    "        related_category=str(head_set)+\"→\"+str(tail_set)\n",
    "        confidence=round(i.confidence,3)\n",
    "        lift=round(i.lift,3)\n",
    "        extract_result.append([related_category,support,confidence,lift])\n",
    "rule_data=pd.DataFrame(extract_result,columns=[\"关联规则\",\"支持度\",\"置信度\",\"提升度\"])\n",
    "pos_rule=rule_data[rule_data[\"提升度\"]>1]\n",
    "print(pos_rule)"
   ]
  }
 ],
 "metadata": {
  "kernelspec": {
   "display_name": "Python 3",
   "language": "python",
   "name": "python3"
  },
  "language_info": {
   "codemirror_mode": {
    "name": "ipython",
    "version": 3
   },
   "file_extension": ".py",
   "mimetype": "text/x-python",
   "name": "python",
   "nbconvert_exporter": "python",
   "pygments_lexer": "ipython3",
   "version": "3.11.3"
  }
 },
 "nbformat": 4,
 "nbformat_minor": 2
}
