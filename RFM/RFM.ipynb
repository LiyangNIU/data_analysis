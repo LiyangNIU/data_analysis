{
 "cells": [
  {
   "cell_type": "code",
   "execution_count": 1,
   "metadata": {},
   "outputs": [
    {
     "name": "stdout",
     "output_type": "stream",
     "text": [
      "              R  F    M\n",
      "买家昵称                   \n",
      ".blue_ram   239  1   49\n",
      ".christiny  245  1  183\n",
      ".willn1     263  1   34\n",
      ".托托m        263  1   37\n",
      "0000妮        94  1  164\n",
      "...         ... ..  ...\n",
      "龙火师         176  1  175\n",
      "龙魔鬼女        164  1   87\n",
      "龟mil宝       103  2  497\n",
      "！谢鹏逗逼？      116  1  137\n",
      "～小邱～        251  1  185\n",
      "\n",
      "[25949 rows x 3 columns]\n"
     ]
    }
   ],
   "source": [
    "import pandas as pd      \n",
    "df = pd.read_csv(\"RFM.csv\")\n",
    "max_date=df.groupby(\"买家昵称\")[\"付款日期\"].max()\n",
    "\n",
    "max_date=pd.to_datetime(max_date)\n",
    "from datetime import datetime\n",
    "\n",
    "endTime=datetime(2020,10,1)\n",
    "\n",
    "r=(endTime - max_date).dt.days\n",
    "\n",
    "f=df.groupby(\"买家昵称\")[\"付款日期\"].count()\n",
    "\n",
    "m=df.groupby(\"买家昵称\")[\"实付金额\"].sum()\n",
    "\n",
    "rfm=pd.concat([r,f,m],axis=1)\n",
    "\n",
    "rfm.columns=[\"R\",\"F\",\"M\"]\n",
    "\n",
    "print(rfm)"
   ]
  }
 ],
 "metadata": {
  "kernelspec": {
   "display_name": "Python 3",
   "language": "python",
   "name": "python3"
  },
  "language_info": {
   "codemirror_mode": {
    "name": "ipython",
    "version": 3
   },
   "file_extension": ".py",
   "mimetype": "text/x-python",
   "name": "python",
   "nbconvert_exporter": "python",
   "pygments_lexer": "ipython3",
   "version": "3.11.3"
  }
 },
 "nbformat": 4,
 "nbformat_minor": 2
}
