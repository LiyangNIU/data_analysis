{
 "cells": [
  {
   "cell_type": "code",
   "execution_count": 3,
   "metadata": {},
   "outputs": [
    {
     "name": "stdout",
     "output_type": "stream",
     "text": [
      "电视对游戏机的提升度为1.3，能推荐\n"
     ]
    }
   ],
   "source": [
    "import pandas as pd\n",
    "df = pd.read_csv(\"electronic.csv\",encoding='utf-8')\n",
    "\n",
    "TVData=df[\"电视\"]\n",
    "\n",
    "TVData=TVData.value_counts()\n",
    "\n",
    "TVData=TVData[1]\n",
    "\n",
    "TVSupport=TVData/13\n",
    "\n",
    "gameData=df[\"游戏机\"]\n",
    "\n",
    "\n",
    "gameData=gameData.value_counts()\n",
    "\n",
    "gameData=gameData[1]\n",
    "\n",
    "\n",
    "gameSupport=gameData/13\n",
    "\n",
    "\n",
    "\n",
    "order=df[(df[\"电视\"]==1)&(df[\"游戏机\"]==1)]\n",
    "\n",
    "\n",
    "order=order[\"游戏机\"]\n",
    "\n",
    "\n",
    "order=order.count()\n",
    "\n",
    "totalSupport=order/13\n",
    "\n",
    "conf=totalSupport/TVSupport\n",
    "\n",
    "lift=(conf/gameSupport).round(1)\n",
    "\n",
    "if lift>1:\n",
    "\n",
    "    print(f\"电视对游戏机的提升度为{lift}，能推荐\")\n",
    "    \n",
    "else:\n",
    "\n",
    "    print(f\"电视对游戏机的提升度为{lift}，不能推荐\")"
   ]
  }
 ],
 "metadata": {
  "kernelspec": {
   "display_name": "Python 3",
   "language": "python",
   "name": "python3"
  },
  "language_info": {
   "codemirror_mode": {
    "name": "ipython",
    "version": 3
   },
   "file_extension": ".py",
   "mimetype": "text/x-python",
   "name": "python",
   "nbconvert_exporter": "python",
   "pygments_lexer": "ipython3",
   "version": "3.11.3"
  }
 },
 "nbformat": 4,
 "nbformat_minor": 2
}
