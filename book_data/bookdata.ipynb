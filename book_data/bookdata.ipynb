{
 "cells": [
  {
   "cell_type": "code",
   "execution_count": 1,
   "metadata": {},
   "outputs": [],
   "source": [
    "import pandas as pd\n",
    "BookRates=pd.read_csv(\"BookRates.csv\")"
   ]
  },
  {
   "cell_type": "code",
   "execution_count": 2,
   "metadata": {},
   "outputs": [],
   "source": [
    "BookRatesTable=BookRates.pivot_table(index=\"ISBN\",columns=\"user_id\",values=\"rating\")"
   ]
  },
  {
   "cell_type": "code",
   "execution_count": 4,
   "metadata": {},
   "outputs": [],
   "source": [
    "corrMatrix=BookRatesTable.corr(method=\"pearson\",min_periods=5)"
   ]
  },
  {
   "cell_type": "code",
   "execution_count": 12,
   "metadata": {},
   "outputs": [
    {
     "name": "stdout",
     "output_type": "stream",
     "text": [
      "16795\n"
     ]
    }
   ],
   "source": [
    "userCorr = corrMatrix[638].drop(index=638)\n",
    "mostCorrUser = userCorr.idxmax()"
   ]
  },
  {
   "cell_type": "code",
   "execution_count": 14,
   "metadata": {},
   "outputs": [],
   "source": [
    "targetBook = BookRatesTable[mostCorrUser]"
   ]
  },
  {
   "cell_type": "code",
   "execution_count": 19,
   "metadata": {},
   "outputs": [],
   "source": [
    "targetBook = targetBook[targetBook.values>8]"
   ]
  },
  {
   "cell_type": "code",
   "execution_count": 15,
   "metadata": {},
   "outputs": [],
   "source": [
    "user638Ratings = BookRatesTable[638].dropna()"
   ]
  },
  {
   "cell_type": "code",
   "execution_count": 17,
   "metadata": {},
   "outputs": [],
   "source": [
    "targetName=targetBook.index\n",
    "\n",
    "user638Name=user638Ratings.index"
   ]
  },
  {
   "cell_type": "code",
   "execution_count": 20,
   "metadata": {},
   "outputs": [
    {
     "name": "stdout",
     "output_type": "stream",
     "text": [
      "['0062502182' '0064407667' '0312305060' '0312966970' '0345339703'\n",
      " '0345342968' '0345435168' '0345439104' '0380730138' '0385503822'\n",
      " '0446364193' '0446608955' '0446609404' '0446672211' '0451177096'\n",
      " '0451184963' '0451524934' '0553296981' '0553579754' '0553582747'\n",
      " '0671042262' '0743203631' '0786868716' '1558744150']\n"
     ]
    }
   ],
   "source": [
    "BookList=targetName[~targetName.isin(user638Name)]\n",
    "print(BookList.values)"
   ]
  }
 ],
 "metadata": {
  "kernelspec": {
   "display_name": "Python 3",
   "language": "python",
   "name": "python3"
  },
  "language_info": {
   "codemirror_mode": {
    "name": "ipython",
    "version": 3
   },
   "file_extension": ".py",
   "mimetype": "text/x-python",
   "name": "python",
   "nbconvert_exporter": "python",
   "pygments_lexer": "ipython3",
   "version": "3.11.3"
  }
 },
 "nbformat": 4,
 "nbformat_minor": 2
}
